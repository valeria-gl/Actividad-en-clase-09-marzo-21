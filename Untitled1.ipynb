{
  "nbformat": 4,
  "nbformat_minor": 0,
  "metadata": {
    "colab": {
      "name": "Untitled1.ipynb",
      "provenance": [],
      "collapsed_sections": [],
      "authorship_tag": "ABX9TyMSVTRKfQr8d6GQhnXjqdWG",
      "include_colab_link": true
    },
    "kernelspec": {
      "name": "python3",
      "display_name": "Python 3"
    },
    "language_info": {
      "name": "python"
    }
  },
  "cells": [
    {
      "cell_type": "markdown",
      "metadata": {
        "id": "view-in-github",
        "colab_type": "text"
      },
      "source": [
        "<a href=\"https://colab.research.google.com/github/valeria-gl/Actividad-en-clase-09-marzo-21/blob/master/Untitled1.ipynb\" target=\"_parent\"><img src=\"https://colab.research.google.com/assets/colab-badge.svg\" alt=\"Open In Colab\"/></a>"
      ]
    },
    {
      "cell_type": "code",
      "metadata": {
        "id": "iyrQXOUvMdE7"
      },
      "source": [
        "class JuegoDeLaVidaADT:\n",
        "  def _init_(self, rens, cols, lista_pob_inicial, generaciones):\n",
        "    self.tablero = Array2D(rens, cols)\n",
        "    self.generaciones = generaciones\n",
        "    selg.GEN =1\n",
        "    self.tablero.clear('M')\n",
        "    for par in lista_pob_inicial:\n",
        "      self.tablero.set_item(par[0], par[1], 'V')\n",
        "\n",
        "  def to_string(self):\n",
        "    printf(f\"----------GENERACION{self.gen}\")\n",
        "    self.tablero.to_string()\n",
        "\n",
        "    def get_vecinos_vivos(a,b):\n",
        "      vecinosvivos = []\n",
        "      a_minimos = a-1\n",
        "      b_minimos = b-1\n",
        "      a_maximos = a+1\n",
        "      a_maximos = b+1\n",
        "\n",
        "      if(a_minimos==0):\n",
        "        a_minimos=+1\n",
        "        if(b_minimos==0):\n",
        "        \n",
        "\n",
        "         if(a_maximos==ren):\n",
        "        a_maximos=-1\n",
        "        if(b_maximos==col)\n",
        "        b_maximos=-1\n",
        "\n",
        "\n",
        "\n",
        "\n"
      ],
      "execution_count": null,
      "outputs": []
    }
  ]
}